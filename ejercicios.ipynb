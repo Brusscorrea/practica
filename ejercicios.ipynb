{
  "nbformat": 4,
  "nbformat_minor": 0,
  "metadata": {
    "colab": {
      "provenance": [],
      "authorship_tag": "ABX9TyNteFBF43ptwfZe4vRDnOts",
      "include_colab_link": true
    },
    "kernelspec": {
      "name": "python3",
      "display_name": "Python 3"
    },
    "language_info": {
      "name": "python"
    }
  },
  "cells": [
    {
      "cell_type": "markdown",
      "metadata": {
        "id": "view-in-github",
        "colab_type": "text"
      },
      "source": [
        "<a href=\"https://colab.research.google.com/github/Brusscorrea/practica/blob/main/ejercicios.ipynb\" target=\"_parent\"><img src=\"https://colab.research.google.com/assets/colab-badge.svg\" alt=\"Open In Colab\"/></a>"
      ]
    },
    {
      "cell_type": "code",
      "execution_count": null,
      "metadata": {
        "id": "bNJVqqslP1RW"
      },
      "outputs": [],
      "source": []
    },
    {
      "cell_type": "code",
      "source": [
        "import random\n",
        "\n",
        "def generar_letra_reggaeton():\n",
        "    palabras = [\n",
        "        \"Mami\", \"yo quiero\",\n",
        "        \"Bebé\", \"yo puedo\",\n",
        "        \"Princess\", \"yo vengo a\",\n",
        "        \"Mami\", \"voy a\",\n",
        "        \"Encenderte\", \"suave\",\n",
        "        \"Amarte\", \"lento\",\n",
        "        \"Ligar\", \"rápido\",\n",
        "        \"Jugar\", \"fuerte\",\n",
        "        \"Hasta que salga el sol\", \"sin anestesia\",\n",
        "        \"Toda la noche\", \"sin compromiso\",\n",
        "        \"Hasta el amanecer\", \"feis tu feis\",\n",
        "        \"Todo el día\"\n",
        "    ]\n",
        "\n",
        "    letra = \"\"\n",
        "    for _ in range(4):\n",
        "        verso = random.sample(palabras, 4)  # Tomar 4 palabras aleatorias\n",
        "        letra += \" \".join(verso) + \"\\n\"\n",
        "\n",
        "    return letra\n",
        "\n",
        "print(generar_letra_reggaeton())"
      ],
      "metadata": {
        "colab": {
          "base_uri": "https://localhost:8080/"
        },
        "id": "tx2McgaEUaUb",
        "outputId": "90de068a-deac-4339-98f0-700e3ab22c37"
      },
      "execution_count": 4,
      "outputs": [
        {
          "output_type": "stream",
          "name": "stdout",
          "text": [
            "feis tu feis Princess Hasta el amanecer Mami\n",
            "Hasta que salga el sol yo quiero voy a Mami\n",
            "rápido Princess lento Bebé\n",
            "Bebé fuerte Hasta que salga el sol Encenderte\n",
            "\n"
          ]
        }
      ]
    },
    {
      "cell_type": "code",
      "source": [
        "def suma_lista(lista):\n",
        "    suma = 0\n",
        "    for numero in lista:\n",
        "        suma += numero\n",
        "    return suma\n",
        "\n",
        "def comparar_sumas(lista1, lista2):\n",
        "    suma_lista1 = suma_lista(lista1)\n",
        "    suma_lista2 = suma_lista(lista2)\n",
        "\n",
        "    if suma_lista1 > suma_lista2:\n",
        "        return \"La primera lista tiene una suma más grande.\"\n",
        "    elif suma_lista1 < suma_lista2:\n",
        "        return \"La segunda lista tiene una suma más grande.\"\n",
        "    else:\n",
        "        return \"Ambas listas tienen la misma suma.\"\n",
        "\n",
        "# Solicitar al usuario las listas de números\n",
        "lista1 = [int(x) for x in input(\"Ingrese los números de la primera lista separados por espacio: \").split()]\n",
        "lista2 = [int(x) for x in input(\"Ingrese los números de la segunda lista separados por espacio: \").split()]\n",
        "\n",
        "# Comparar las sumas de las listas\n",
        "resultado = comparar_sumas(lista1, lista2)\n",
        "print(resultado)"
      ],
      "metadata": {
        "colab": {
          "base_uri": "https://localhost:8080/"
        },
        "id": "_-TLTuDHg0tK",
        "outputId": "f3ab71a4-7c1b-4296-e0c8-fb5b16b65d8d"
      },
      "execution_count": 5,
      "outputs": [
        {
          "output_type": "stream",
          "name": "stdout",
          "text": [
            "Ingrese los números de la primera lista separados por espacio: 5 6 7 8\n",
            "Ingrese los números de la segunda lista separados por espacio: 1 4 7 2 5\n",
            "La primera lista tiene una suma más grande.\n"
          ]
        }
      ]
    }
  ]
}