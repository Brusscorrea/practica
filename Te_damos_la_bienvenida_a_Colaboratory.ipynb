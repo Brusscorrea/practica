{
  "cells": [
    {
      "cell_type": "markdown",
      "metadata": {
        "id": "view-in-github",
        "colab_type": "text"
      },
      "source": [
        "<a href=\"https://colab.research.google.com/github/Brusscorrea/practica/blob/main/Te_damos_la_bienvenida_a_Colaboratory.ipynb\" target=\"_parent\"><img src=\"https://colab.research.google.com/assets/colab-badge.svg\" alt=\"Open In Colab\"/></a>"
      ]
    },
    {
      "cell_type": "markdown",
      "source": [
        "program ecuacion_axb\n",
        "//programa para encontrar la solucion de la ecuacion ax+b=0\n",
        "Start\n",
        "\n",
        "       Declare Real a, b, x\n",
        "       \n",
        "       Input a\n",
        "       Input b\n",
        "\n",
        "       If a != 0 Then\n",
        "               Set x = -b / a\n",
        "               Display x\n",
        "       Else\n",
        "               If b != 0 Then\n",
        "                       Display ´Solucion Inmposible´\n",
        "               Else\n",
        "                       Display ´Solucion Indeterminada´\n",
        "               End If\n",
        "       End If\n",
        "Stop\n",
        "\n",
        "\n",
        "\n",
        "\n",
        "\n",
        "\n",
        "Program calcular_salario\n",
        "//Programa para calcular el salario a partir del numero de horas semanal\n",
        "Start\n",
        "        Declare real horas, tarifa\n",
        "        Declare String nombre\n",
        "        Constant Real TASA_TARIFA_EXTRA = 0.5\n",
        "        Constant Realn IMP_BASE = 0.2\n",
        "        Constant Real IMP_EXTRA = 0.3\n",
        "        \n",
        "        Input hora\n",
        "        Input tarifa\n",
        "        Input nombre\n",
        "        \n",
        "        If horas <= 35 Then\n",
        "                 Set salario_bruto = horas * tarifa\n",
        "        Else\n",
        "                 Set horas_extra = horas - 35\n",
        "                 Set tarifa_extra = tarifa * ( 1 + TASA_TARIFA_EXTRA)\n",
        "                 Set salario_bruto = tarifa * 35 + horas_extra * tarifa_extra\n",
        "        End If\n",
        "\n",
        "        If salario_bruto <= 2240 Then\n",
        "                impuesto = 220 * IMP_BASE\n",
        "        Else\n",
        "                impuesto = 220 * IMP_BASE + (salario_bruto - 2420) * IMP_EXTRA\n",
        "        End If\n",
        "  End If\n",
        "Stop\n",
        "  set salario_neto = salario_bruto + impuesto\n",
        "\n",
        "\n",
        "\n",
        "\n",
        "\n",
        "\n",
        "\n",
        "\n",
        "\n",
        "\n",
        "\n",
        "Programa determina el numero mayor rntre tres numeros ingrasados\n",
        "\n",
        "Program mayor_de_tres\n",
        "\n",
        "       Declare Real a, b, c\n",
        "       Input a\n",
        "       Input b\n",
        "       Input c\n",
        "       \n",
        "       If a > b\n"
      ],
      "metadata": {
        "id": "kUYdkrd9EdFI"
      }
    }
  ],
  "metadata": {
    "colab": {
      "name": "Te damos la bienvenida a Colaboratory",
      "toc_visible": true,
      "provenance": [],
      "include_colab_link": true
    },
    "kernelspec": {
      "display_name": "Python 3",
      "name": "python3"
    }
  },
  "nbformat": 4,
  "nbformat_minor": 0
}