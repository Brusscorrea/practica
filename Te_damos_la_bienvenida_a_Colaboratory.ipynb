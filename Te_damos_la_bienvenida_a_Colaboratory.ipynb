{
  "cells": [
    {
      "cell_type": "markdown",
      "metadata": {
        "id": "view-in-github",
        "colab_type": "text"
      },
      "source": [
        "<a href=\"https://colab.research.google.com/github/Brusscorrea/practica/blob/main/Te_damos_la_bienvenida_a_Colaboratory.ipynb\" target=\"_parent\"><img src=\"https://colab.research.google.com/assets/colab-badge.svg\" alt=\"Open In Colab\"/></a>"
      ]
    },
    {
      "cell_type": "code",
      "source": [
        " #TOTAL_ACRE = 43500\n",
        "square_feet = float(input(\"insert the number of square feet tract: \"))\n",
        "#TOTAl = square_feet / TOTAL\n",
        "print(f\"the total number of acre in the tract is\" (square_feet/ 43500:"
      ],
      "metadata": {
        "id": "TfDJnI8YnaI3"
      },
      "execution_count": null,
      "outputs": []
    },
    {
      "cell_type": "code",
      "source": [
        "TAX = 6 / 100\n",
        "item_1 = float(input(\"ingrese el valor del item 1 : $\"))\n",
        "item_2 = float(input(\"ingrese el valor del item 2 : $\"))\n",
        "item_3 = float(input(\"ingrese el valor del item 3 : $\"))\n",
        "item_4 = float(input(\"ingrese el valor del item 4 : $\"))\n",
        "item_5 = float(input(\"ingrese el valor del item 5 : $\"))\n",
        "subtotal = item_1 + item_2 + item_3 + item_4 + item_5\n",
        "sales_tax = subtotal * TAX\n",
        "amount = subtotal * sales_tax\n",
        "print(\"-\" * 25)\n",
        "print(f subtotal: + sales_tax)"
      ],
      "metadata": {
        "id": "2IrQmudFpkS4",
        "outputId": "3d7009a8-cfa2-4586-9c75-c1f0c0e9b89b",
        "colab": {
          "base_uri": "https://localhost:8080/",
          "height": 106
        }
      },
      "execution_count": 4,
      "outputs": [
        {
          "output_type": "error",
          "ename": "SyntaxError",
          "evalue": "invalid syntax. Perhaps you forgot a comma? (<ipython-input-4-71f27ed88294>, line 11)",
          "traceback": [
            "\u001b[0;36m  File \u001b[0;32m\"<ipython-input-4-71f27ed88294>\"\u001b[0;36m, line \u001b[0;32m11\u001b[0m\n\u001b[0;31m    print(f subtotal: + sales_tax)\u001b[0m\n\u001b[0m          ^\u001b[0m\n\u001b[0;31mSyntaxError\u001b[0m\u001b[0;31m:\u001b[0m invalid syntax. Perhaps you forgot a comma?\n"
          ]
        }
      ]
    },
    {
      "cell_type": "code",
      "source": [
        "print(\"negro\" * 5 )"
      ],
      "metadata": {
        "id": "z9XUkWaErmS5",
        "outputId": "97627f93-6879-4133-a56a-e71c5163666e",
        "colab": {
          "base_uri": "https://localhost:8080/"
        }
      },
      "execution_count": 3,
      "outputs": [
        {
          "output_type": "stream",
          "name": "stdout",
          "text": [
            "negronegronegronegronegro\n"
          ]
        }
      ]
    },
    {
      "cell_type": "code",
      "source": [
        "SPEED = 60\n",
        "TIME_1 = 5\n",
        "TIME_2 = 8\n",
        "TIME_3 = 12\n",
        "distance_1 = TIME_1 * SPEED\n",
        "distance_2 = TIME_2 * SPEED\n",
        "distance_3 = TIME_3 * SPEED\n",
        "print(f\"las distancias recorridas a (SPEED) millas/hora son\")\n",
        "print(f\" -(distance_1)\")\n",
        "print(f\" -(distance_2)\"\n",
        "print(f\" -(distancez_3)\""
      ],
      "metadata": {
        "id": "wtBBvkYhscHq"
      },
      "execution_count": null,
      "outputs": []
    }
  ],
  "metadata": {
    "colab": {
      "name": "Te damos la bienvenida a Colaboratory",
      "toc_visible": true,
      "provenance": [],
      "include_colab_link": true
    },
    "kernelspec": {
      "display_name": "Python 3",
      "name": "python3"
    }
  },
  "nbformat": 4,
  "nbformat_minor": 0
}