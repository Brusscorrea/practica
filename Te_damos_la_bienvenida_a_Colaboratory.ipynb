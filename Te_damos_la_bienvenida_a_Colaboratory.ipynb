{
  "cells": [
    {
      "cell_type": "markdown",
      "metadata": {
        "id": "view-in-github",
        "colab_type": "text"
      },
      "source": [
        "<a href=\"https://colab.research.google.com/github/Brusscorrea/practica/blob/main/Te_damos_la_bienvenida_a_Colaboratory.ipynb\" target=\"_parent\"><img src=\"https://colab.research.google.com/assets/colab-badge.svg\" alt=\"Open In Colab\"/></a>"
      ]
    },
    {
      "cell_type": "markdown",
      "source": [
        "``` python\n",
        "a = 3\n",
        "b = 5\n",
        "c = a + b\n",
        "print(c)\n",
        "```\n",
        "### **Salto de linea**\n",
        "<b>\n",
        "ok\n",
        "\n",
        " ***\n",
        " - pollo\n",
        " - arroz\n",
        "   - cocinar\n",
        "\n",
        "***\n",
        " LaTeX\n",
        "  \n",
        "  $$ v= 5 $$\n",
        "  \n",
        "\n",
        "  \n",
        "\n"
      ],
      "metadata": {
        "id": "20aj3s3z0Z3L"
      }
    },
    {
      "cell_type": "code",
      "source": [],
      "metadata": {
        "id": "5SKnEiv-0g0E"
      },
      "execution_count": null,
      "outputs": []
    }
  ],
  "metadata": {
    "colab": {
      "name": "Te damos la bienvenida a Colaboratory",
      "provenance": [],
      "include_colab_link": true
    },
    "kernelspec": {
      "display_name": "Python 3",
      "name": "python3"
    }
  },
  "nbformat": 4,
  "nbformat_minor": 0
}